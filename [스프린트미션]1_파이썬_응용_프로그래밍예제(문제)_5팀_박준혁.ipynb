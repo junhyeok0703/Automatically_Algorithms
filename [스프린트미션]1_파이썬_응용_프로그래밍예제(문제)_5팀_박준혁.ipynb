{
  "nbformat": 4,
  "nbformat_minor": 0,
  "metadata": {
    "colab": {
      "provenance": [],
      "toc_visible": true,
      "include_colab_link": true
    },
    "kernelspec": {
      "name": "python3",
      "display_name": "Python 3"
    },
    "language_info": {
      "name": "python"
    }
  },
  "cells": [
    {
      "cell_type": "markdown",
      "metadata": {
        "id": "view-in-github",
        "colab_type": "text"
      },
      "source": [
        "<a href=\"https://colab.research.google.com/github/junhyeok0703/Automatically_Algorithms/blob/main/%5B%E1%84%89%E1%85%B3%E1%84%91%E1%85%B3%E1%84%85%E1%85%B5%E1%86%AB%E1%84%90%E1%85%B3%E1%84%86%E1%85%B5%E1%84%89%E1%85%A7%E1%86%AB%5D1_%E1%84%91%E1%85%A1%E1%84%8B%E1%85%B5%E1%84%8A%E1%85%A5%E1%86%AB_%E1%84%8B%E1%85%B3%E1%86%BC%E1%84%8B%E1%85%AD%E1%86%BC_%E1%84%91%E1%85%B3%E1%84%85%E1%85%A9%E1%84%80%E1%85%B3%E1%84%85%E1%85%A2%E1%84%86%E1%85%B5%E1%86%BC%E1%84%8B%E1%85%A8%E1%84%8C%E1%85%A6(%E1%84%86%E1%85%AE%E1%86%AB%E1%84%8C%E1%85%A6)_5%ED%8C%80_%EB%B0%95%EC%A4%80%ED%98%81.ipynb\" target=\"_parent\"><img src=\"https://colab.research.google.com/assets/colab-badge.svg\" alt=\"Open In Colab\"/></a>"
      ]
    },
    {
      "cell_type": "code",
      "source": [
        "# @title\n",
        "### 문제를 위한 파일 생성코드입니다. 문제를 풀기 전 이 코드를 반드시 실행해주세요.\n",
        "\n",
        "import csv\n",
        "# (시뮬레이션을 위한) 예시 파일 작성코드\n",
        "\n",
        "def write_tasks_to_csv(filename, tasks):\n",
        "    with open(filename, 'w', newline='') as csvfile:\n",
        "        fieldnames = ['할일', '소요시간']\n",
        "        writer = csv.DictWriter(csvfile, fieldnames=fieldnames)\n",
        "\n",
        "        writer.writeheader()\n",
        "        for task, time in tasks:\n",
        "            writer.writerow({'할일': task, '소요시간': time})\n",
        "\n",
        "# 할 일과 소요 시간 데이터\n",
        "tasks = [\n",
        "    ('공부하기', 120),\n",
        "    ('운동하기', 60),\n",
        "    ('가계부정리', 30),\n",
        "    ('영화보기', 150)\n",
        "]\n",
        "\n",
        "# CSV 파일로 저장\n",
        "write_tasks_to_csv('tasks.csv', tasks)"
      ],
      "metadata": {
        "id": "_HXtzQxgFqWH"
      },
      "execution_count": null,
      "outputs": []
    },
    {
      "cell_type": "markdown",
      "source": [
        "### 기초 (7문제)"
      ],
      "metadata": {
        "id": "bcI_RWYgtazp"
      }
    },
    {
      "cell_type": "markdown",
      "source": [
        "#### 문제1. 3의 배수 출력"
      ],
      "metadata": {
        "id": "VWt4YYpztd-3"
      }
    },
    {
      "cell_type": "markdown",
      "source": [
        "- 문제 설명  \n",
        "1부터 n까지의 숫자 중에서 3의 배수만 출력하는 함수를 작성하세요.\n",
        "\n",
        "- 함수 설명  \n",
        "`print_multiples_of_three(n: int) -> int`:  \n",
        "  - n: 3의 배수를 구하고자 하는 범위의 최대값입니다."
      ],
      "metadata": {
        "id": "GWL9n5VRO-EL"
      }
    },
    {
      "cell_type": "markdown",
      "source": [
        "- 입출력 예시   \n",
        "\n",
        "    - 입력1:\n",
        "\n",
        "    ```\n",
        "    7\n",
        "    ```\n",
        "\n",
        "    - 출력1:\n",
        "\n",
        "    ```\n",
        "    3\n",
        "    6\n",
        "    ```\n",
        "\n",
        "    - 입력2:\n",
        "    \n",
        "    ```\n",
        "    30\n",
        "    ```\n",
        "\n",
        "    - 출력2:\n",
        "\n",
        "    ```\n",
        "    3\n",
        "    6\n",
        "    9\n",
        "    12\n",
        "    15\n",
        "    18\n",
        "    21\n",
        "    24\n",
        "    27\n",
        "    30\n",
        "    ```"
      ],
      "metadata": {
        "id": "ktjPbNPJPhMB"
      }
    },
    {
      "cell_type": "code",
      "source": [],
      "metadata": {
        "id": "JBLdHL_xpy6m"
      },
      "execution_count": null,
      "outputs": []
    },
    {
      "cell_type": "code",
      "source": [
        "#내가 푼거\n",
        "def print_multiples_of_three(n):\n",
        "    for i in range(1,n+1):\n",
        "      if i%3==0:\n",
        "        print(i)\n",
        "\n",
        "#프로그램 실행\n",
        "print_multiples_of_three(7)\n",
        "print()\n",
        "print_multiples_of_three(30)"
      ],
      "metadata": {
        "id": "gASC729ZTC2H",
        "colab": {
          "base_uri": "https://localhost:8080/"
        },
        "outputId": "dd2f2a0d-1fd6-4f40-d50f-38dc7c457745"
      },
      "execution_count": null,
      "outputs": [
        {
          "output_type": "stream",
          "name": "stdout",
          "text": [
            "3\n",
            "6\n",
            "\n",
            "3\n",
            "6\n",
            "9\n",
            "12\n",
            "15\n",
            "18\n",
            "21\n",
            "24\n",
            "27\n",
            "30\n"
          ]
        }
      ]
    },
    {
      "cell_type": "markdown",
      "source": [
        "#### 문제2. 모음 제거하기"
      ],
      "metadata": {
        "id": "fruXu3Qutgfv"
      }
    },
    {
      "cell_type": "markdown",
      "source": [
        "- 문제 설명  \n",
        "문자열에서 모음(a, e, i, o, u)을 제거한 문자열을 반환하는 함수를 작성하세요.\n",
        "\n",
        "- 함수 설명  \n",
        "`remove_vowels(s: string) -> string`:  \n",
        "  - s: 영어 소문자 알파벳으로 이루어진 문자열입니다."
      ],
      "metadata": {
        "id": "C6Zja5t0ZSfK"
      }
    },
    {
      "cell_type": "markdown",
      "source": [
        "- 입출력 예시   \n",
        "\n",
        "    - 입력1:\n",
        "\n",
        "    ```\n",
        "    \"codeit\"\n",
        "    ```\n",
        "\n",
        "    - 출력1:\n",
        "\n",
        "    ```\n",
        "    \"cdt\"\n",
        "    ```\n",
        "\n",
        "    - 입력2:\n",
        "    \n",
        "    ```\n",
        "    \"python programming\"\n",
        "    ```\n",
        "\n",
        "    - 출력2:\n",
        "\n",
        "    ```\n",
        "    \"pythn prgrmmng\"\n",
        "    ```\n",
        "\n"
      ],
      "metadata": {
        "id": "fX6fYbdCZnpF"
      }
    },
    {
      "cell_type": "code",
      "source": [
        "#문제\n",
        "rplacestr = ['a','e','i','o','u']\n",
        "def remove_vowels(s):\n",
        "  for str1 in rplacestr:\n",
        "    s = s.replace(str1,'')\n",
        "  return s\n",
        "\n",
        "#프로그램 실행\n",
        "print(remove_vowels(\"codeit\"))\n",
        "print(remove_vowels(\"python programming\"))\n",
        "# 강사님이 푸신거\n",
        "filtered_string = ''\n",
        "for s in string:\n",
        "  if s not in ['a','e','i','o','u']:\n",
        "    filtered_string+=s"
      ],
      "metadata": {
        "id": "Z0bxjVaaZwet",
        "colab": {
          "base_uri": "https://localhost:8080/"
        },
        "outputId": "f4638675-361a-4808-ff17-1874c62f2475"
      },
      "execution_count": null,
      "outputs": [
        {
          "output_type": "stream",
          "name": "stdout",
          "text": [
            "cdt\n",
            "pythn prgrmmng\n"
          ]
        }
      ]
    },
    {
      "cell_type": "markdown",
      "source": [
        "#### 문제3. 수 크기 비교하기"
      ],
      "metadata": {
        "id": "kmMAA3VMtjHO"
      }
    },
    {
      "cell_type": "markdown",
      "source": [
        "- 문제 설명  \n",
        "두 개의 숫자를 입력받아, 큰 숫자와 작은 숫자를 각각 반환하는 함수를 작성하세요.\n",
        "\n",
        "- 함수 설명  \n",
        "`compare_numbers(num1, num2)`:  \n",
        "  - num1, num2 : 정수형"
      ],
      "metadata": {
        "id": "1lgyYp6yZ9wQ"
      }
    },
    {
      "cell_type": "markdown",
      "source": [
        "- 입출력 예시   \n",
        "\n",
        "    - 입력1:\n",
        "\n",
        "    ```\n",
        "    10, 20\n",
        "    ```\n",
        "\n",
        "    - 출력1:\n",
        "\n",
        "    ```\n",
        "    20, 10\n",
        "    ```\n",
        "\n",
        "    - 입력2:\n",
        "    \n",
        "    ```\n",
        "    45, 15\n",
        "    ```\n",
        "\n",
        "    - 출력2:\n",
        "\n",
        "    ```\n",
        "    45, 15\n",
        "    ```\n",
        "\n"
      ],
      "metadata": {
        "id": "Nzi9z3WNaNde"
      }
    },
    {
      "cell_type": "code",
      "source": [
        "#문제\n",
        "def compare_numbers(num1, num2):\n",
        "  if num1<num2:\n",
        "    return num2,num1\n",
        "  else:\n",
        "    return num1,num2\n",
        "\n",
        "#프로그램 실행\n",
        "print(compare_numbers(10, 20))\n",
        "print(compare_numbers(45, 15))"
      ],
      "metadata": {
        "id": "NuRnqiulach3",
        "colab": {
          "base_uri": "https://localhost:8080/"
        },
        "outputId": "eb414d80-b4a0-40bc-92f3-04c91e36696e"
      },
      "execution_count": null,
      "outputs": [
        {
          "output_type": "stream",
          "name": "stdout",
          "text": [
            "(20, 10)\n",
            "(45, 15)\n"
          ]
        }
      ]
    },
    {
      "cell_type": "markdown",
      "source": [
        "#### 문제4. 문자열 길이 반환하기"
      ],
      "metadata": {
        "id": "4AJ89Dt0tlCe"
      }
    },
    {
      "cell_type": "markdown",
      "source": [
        "- 문제 설명  \n",
        "문자열의 길이를 반환하되, 문자열이 빈 문자열이면 “문자열이 비어 있습니다.“를 반환하는 함수를 작성하세요.\n",
        "\n",
        "- 함수 설명  \n",
        "`check_string_length(string)`:  \n",
        "  - string : 영어 알파벳 및 공백이 포함된 문자열입니다."
      ],
      "metadata": {
        "id": "sUsokBmCdt1c"
      }
    },
    {
      "cell_type": "markdown",
      "source": [
        "- 입출력 예시   \n",
        "\n",
        "    - 입력1:\n",
        "\n",
        "    ```\n",
        "    \"Python\"\n",
        "    ```\n",
        "\n",
        "    - 출력1:\n",
        "\n",
        "    ```\n",
        "    6\n",
        "    ```\n",
        "\n",
        "    - 입력2:\n",
        "    \n",
        "    ```\n",
        "    \"\"\n",
        "    ```\n",
        "\n",
        "    - 출력2:\n",
        "\n",
        "    ```\n",
        "    \"문자열이 비어 있습니다.\"\n",
        "    ```\n",
        "\n"
      ],
      "metadata": {
        "id": "KxwBEoXgeHOG"
      }
    },
    {
      "cell_type": "code",
      "source": [
        "#문제\n",
        "def check_string_length(string):\n",
        "  cnt = 0\n",
        "  for i in string:\n",
        "    cnt+=1\n",
        "  if cnt>0:\n",
        "    return cnt\n",
        "  else:\n",
        "    return '문자열이 비어 있습니다.'\n",
        "\n",
        "#프로그램 실행\n",
        "print(check_string_length(\"Python\"))\n",
        "print(check_string_length(\"\"))"
      ],
      "metadata": {
        "id": "9m851A2feQoH",
        "colab": {
          "base_uri": "https://localhost:8080/"
        },
        "outputId": "d04ff13d-b07c-4fa4-9a55-5b18c81f797a"
      },
      "execution_count": null,
      "outputs": [
        {
          "output_type": "stream",
          "name": "stdout",
          "text": [
            "6\n",
            "문자열이 비어 있습니다.\n"
          ]
        }
      ]
    },
    {
      "cell_type": "markdown",
      "source": [
        "#### 문제5. 총 합계 구하기"
      ],
      "metadata": {
        "id": "3HH3THIatmJ0"
      }
    },
    {
      "cell_type": "markdown",
      "source": [
        "- 문제 설명  \n",
        "0부터 사용자가 입력한 숫자 n까지의 합을 구하는 함수를 작성하세요.\n",
        "\n",
        "- 함수 설명  \n",
        "`sum_up_to_n(n)`:  \n",
        "  - n: 0보다 큰 정수"
      ],
      "metadata": {
        "id": "MWJlEAhfempL"
      }
    },
    {
      "cell_type": "markdown",
      "source": [
        "- 입출력 예시   \n",
        "\n",
        "    - 입력1:\n",
        "\n",
        "    ```\n",
        "    3\n",
        "    ```\n",
        "\n",
        "    - 출력1:\n",
        "\n",
        "    ```\n",
        "    6\n",
        "    ```\n",
        "\n",
        "    - 입력2:\n",
        "    \n",
        "    ```\n",
        "    10\n",
        "    ```\n",
        "\n",
        "    - 출력2:\n",
        "\n",
        "    ```\n",
        "    55\n",
        "    ```\n",
        "\n"
      ],
      "metadata": {
        "id": "vLmzI3cigf9c"
      }
    },
    {
      "cell_type": "code",
      "source": [
        "#문제\n",
        "def sum_up_to_n(n):\n",
        "  result = 0\n",
        "  for i in range(n+1):\n",
        "    result+=i\n",
        "  return result\n",
        "#프로그램 실행\n",
        "print(sum_up_to_n(3))\n",
        "print(sum_up_to_n(10))"
      ],
      "metadata": {
        "id": "fCM7jGDWgmKy",
        "colab": {
          "base_uri": "https://localhost:8080/"
        },
        "outputId": "0bd36c5f-eb4a-4ed5-fcdd-723c5f90e9c1"
      },
      "execution_count": null,
      "outputs": [
        {
          "output_type": "stream",
          "name": "stdout",
          "text": [
            "6\n",
            "55\n"
          ]
        }
      ]
    },
    {
      "cell_type": "markdown",
      "source": [
        "#### 문제6. 짝수 합 구하기"
      ],
      "metadata": {
        "id": "8MwKwJDmgzDX"
      }
    },
    {
      "cell_type": "markdown",
      "source": [
        "- 문제 설명  \n",
        "사용자가 입력한 숫자 n까지의 짝수 합을 구하는 함수를 작성하되, 0을 입력하면 프로그램을 종료하는 함수를 작성하세요. (단, 음수는 입력하지 않는다고 가정합니다.)\n",
        "\n",
        "- 함수 설명  \n",
        "`sum_even_numbers()`\n",
        "\n",
        "  - 사용자에게 숫자 입력을 요청합니다.\n",
        "  - 0 입력시 종료됨을 안내합니다.\n",
        "  - 프로그램 종료 시 \"1부터 n까지의 짝수 합은 ___ 입니다.\" 가 출력됩니다."
      ],
      "metadata": {
        "id": "KU_2-o69g4Vo"
      }
    },
    {
      "cell_type": "markdown",
      "source": [
        "- 입출력 예시   \n",
        "\n",
        "    - 입력1:\n",
        "\n",
        "    ```\n",
        "    9\n",
        "    ```\n",
        "\n",
        "    - 출력1:\n",
        "\n",
        "    ```\n",
        "    \"1부터 9까지의 짝수 합은 20입니다.\"\n",
        "    ```\n",
        "\n",
        "    - 입력2:\n",
        "    \n",
        "    ```\n",
        "    0\n",
        "    ```\n",
        "\n",
        "    - 출력2:\n",
        "\n",
        "    ```\n",
        "    (없음)\n",
        "    ```\n",
        "\n"
      ],
      "metadata": {
        "id": "CFVM8Q6VhCs2"
      }
    },
    {
      "cell_type": "code",
      "source": [
        "#문제\n",
        "def sum_even_numbers(n):\n",
        "  result = 0\n",
        "  if n==0:\n",
        "    return '(없음)'\n",
        "  for i in range(1,n+1):\n",
        "    if i%2==0:\n",
        "      result +=i\n",
        "  return f'1부터 {n}까지의 짝수 합은 {result}입니다'\n",
        "\n",
        "\n",
        "#프로그램 실행\n",
        "print(sum_even_numbers(9))\n",
        "print(sum_even_numbers(0))"
      ],
      "metadata": {
        "id": "f0P224GUix9m",
        "colab": {
          "base_uri": "https://localhost:8080/"
        },
        "outputId": "e3efd071-e9a7-4211-a769-f0fae3e9c8da"
      },
      "execution_count": null,
      "outputs": [
        {
          "output_type": "stream",
          "name": "stdout",
          "text": [
            "1부터 9까지의 짝수 합은 20입니다\n",
            "(없음)\n"
          ]
        }
      ]
    },
    {
      "cell_type": "markdown",
      "source": [
        "#### 문제7. 두 숫자 나누기"
      ],
      "metadata": {
        "id": "p773m5JeiG9l"
      }
    },
    {
      "cell_type": "markdown",
      "source": [
        "- 문제 설명  \n",
        "사용자가 입력한 두 숫자를 나누는 프로그램을 작성하세요. 예외가 발생하면 “잘못된 입력입니다.“를 반환하는 함수를 작성하세요.\n",
        "\n",
        "- 함수 설명  \n",
        "`divide_numbers()`:  \n",
        "  - 사용자에게 두개의 숫자를 차례대로 입력 받습니다.\n",
        "  - 첫번째 숫자를 두번째 숫자로 나눕니다.\n",
        "  - 결과 값을 반환합니다. 단, 예외가 발생하면 \"잘못된 입력입니다.\"를 반환합니다.\n",
        "  - try~except 구문을 활용하여 함수를 작성해보세요. 이 문법에 대해서 구글링을 해도 좋습니다."
      ],
      "metadata": {
        "id": "0L73MuyViKuR"
      }
    },
    {
      "cell_type": "markdown",
      "source": [
        "- 입출력 예시   \n",
        "\n",
        "    - 입력1:\n",
        "\n",
        "    ```\n",
        "    42\n",
        "    7\n",
        "    ```\n",
        "\n",
        "    - 출력1:\n",
        "\n",
        "    ```\n",
        "    6\n",
        "    ```\n",
        "\n",
        "    - 입력2:\n",
        "    \n",
        "    ```\n",
        "    135\n",
        "    0\n",
        "    ```\n",
        "\n",
        "    - 출력2:\n",
        "\n",
        "    ```\n",
        "    \"잘못된 입력입니다.\"\n",
        "    ```\n",
        "\n"
      ],
      "metadata": {
        "id": "EkQxywZ_ihJH"
      }
    },
    {
      "cell_type": "code",
      "source": [
        "#문제\n",
        "def divide_numbers():\n",
        "  a = int(input())\n",
        "  b = int(input())\n",
        "  try:\n",
        "    return a//b\n",
        "  except:\n",
        "    print('잘못된 입력입니다.')\n",
        "\n",
        "\n",
        "#프로그램 실행\n",
        "divide_numbers()"
      ],
      "metadata": {
        "id": "Wo60LwGPiqsa",
        "colab": {
          "base_uri": "https://localhost:8080/"
        },
        "outputId": "b60bcd72-ba21-48fc-e8d4-9f644449e6bd"
      },
      "execution_count": null,
      "outputs": [
        {
          "output_type": "stream",
          "name": "stdout",
          "text": [
            "135\n",
            "0\n",
            "잘못된 입력입니다.\n"
          ]
        }
      ]
    },
    {
      "cell_type": "markdown",
      "source": [
        "### 응용 (3문제)"
      ],
      "metadata": {
        "id": "s-ZKvyH0_QTr"
      }
    },
    {
      "cell_type": "markdown",
      "source": [
        "\n",
        "#### 문제1. 문자열 압축 게임\n"
      ],
      "metadata": {
        "id": "mHQh4u9__QQQ"
      }
    },
    {
      "cell_type": "markdown",
      "source": [
        "- 문제 설명  \n",
        "주어진 문자열에서 연속해서 같은 문자가 반복되는 경우, 그 문자와 반복 횟수를 이용해 새로운 형태로 문자열을 압축합니다. 예를 들어, \"aabcccccaaa\" 문자열은 \"a2b1c5a3\"로 압축될 수 있습니다. 압축 결과의 길이가 원본 문자열보다 짧을 경우에만 압축 결과를 반환하고, 그렇지 않으면 원래 문자열을 반환합니다.\n",
        "\n",
        "- 함수 설명  \n",
        "`compress_string(s: str) -> str`:  \n",
        "  - s: 압축하고자 하는 문자열입니다.\n",
        "  - 압축된 결과가 원본 문자열보다 짧으면 압축된 문자열을 반환하고, 그렇지 않으면 원본 문자열을 반환합니다."
      ],
      "metadata": {
        "id": "o6yWeG4M4PhX"
      }
    },
    {
      "cell_type": "markdown",
      "source": [
        "- 입출력 예시   \n",
        "\n",
        "    - 입력1:\n",
        "\n",
        "    ```\n",
        "    \"aaabbaaa\"\n",
        "    ```\n",
        "\n",
        "    - 출력1:\n",
        "\n",
        "    ```\n",
        "    \"a3b2a3\"\n",
        "    ```\n",
        "\n",
        "    - 입력2:\n",
        "    \n",
        "    ```\n",
        "    \"aabcccccaaa\"\n",
        "    ```\n",
        "\n",
        "    - 출력2:\n",
        "\n",
        "    ```\n",
        "    \"a2b1c5a3\"\n",
        "    ```\n",
        "\n"
      ],
      "metadata": {
        "id": "ZH2A0AKm4ZRE"
      }
    },
    {
      "cell_type": "code",
      "source": [
        "# 문제\n",
        "def compress_string(s):\n",
        "    cnt1=0\n",
        "    strcnt=''\n",
        "    resultarr= []\n",
        "    for i in range(0,len(s)-1):\n",
        "      if s[i]!=s[i+1]:\n",
        "        resultarr.append(strcnt+str(cnt1+1))\n",
        "        cnt1=0\n",
        "        strcnt = s[i+1]\n",
        "      else:\n",
        "        cnt1+=1\n",
        "        strcnt=s[i]\n",
        "    if cnt1 !=0:\n",
        "        resultarr.append(strcnt+str(cnt1+1))\n",
        "    return ''.join(resultarr)\n",
        "\n",
        "# 프로그램 실행\n",
        "compress_string(\"aaabbaaa\")\n",
        "compress_string(\"aabcccccaaa\")\n"
      ],
      "metadata": {
        "id": "vNDgUmQbQ25P",
        "colab": {
          "base_uri": "https://localhost:8080/",
          "height": 35
        },
        "outputId": "23cd432a-9e38-4b02-936e-c3be4b64f494"
      },
      "execution_count": null,
      "outputs": [
        {
          "output_type": "execute_result",
          "data": {
            "text/plain": [
              "''"
            ],
            "application/vnd.google.colaboratory.intrinsic+json": {
              "type": "string"
            }
          },
          "metadata": {},
          "execution_count": 190
        }
      ]
    },
    {
      "cell_type": "code",
      "source": [
        "# for문 끝나고 한번 더 입력 ( 강사님 답안)\n",
        "\n",
        "def compress_string(s):\n",
        "  result = ''\n",
        "  cnt = 1\n",
        "  i = 0\n",
        "  for _ in range(len(string)-1):\n",
        "    if string[i] == string[i+1]:\n",
        "      cnt+=1\n",
        "    else:\n",
        "      result+=f'{sring[i]}{cnt}'\n",
        "      cnt = 1\n",
        "    i+=1\n",
        "    result += f'{string[i]}{cnt}'\n",
        "    if len(result)<len(string):\n",
        "      return result\n",
        "    else:\n",
        "      return string\n",
        "\n",
        "#"
      ],
      "metadata": {
        "id": "Dzm1zdZ3xpOo"
      },
      "execution_count": null,
      "outputs": []
    },
    {
      "cell_type": "markdown",
      "source": [
        "#### 문제2. 입력 덧셈 프로그램"
      ],
      "metadata": {
        "id": "HjJXOs1gP2fU"
      }
    },
    {
      "cell_type": "markdown",
      "source": [
        "- 문제 설명   \n",
        "이 프로그램은 두 개의 숫자를 입력받아 그 합을 계산합니다. 입력받은 값이 숫자 형식이 아니면, 사용자에게 숫자 형식의 입력을 요청합니다. 숫자 입력이 완료되면 두 숫자의 합을 출력합니다.\n",
        "\n",
        "- 함수 설명  \n",
        "`add_numbers()`:\n",
        "  - 이 함수는 사용자로부터 두 개의 숫자를 입력받습니다.\n",
        "  - 입력된 값이 숫자가 아닐 경우, \"올바른 숫자를 입력하세요.\"라는 메시지를 출력하고 다시 입력을 요청합니다.\n",
        "  - 두 숫자의 합을 계산하고 결과를 출력합니다."
      ],
      "metadata": {
        "id": "nonn1EFRP9Lh"
      }
    },
    {
      "cell_type": "markdown",
      "source": [
        "- 입출력 예시\n",
        "\n",
        "- 입력:\n",
        "  ```\n",
        "  첫 번째 숫자를 입력하세요: 10\n",
        "  두 번째 숫자를 입력하세요: twenty\n",
        "  올바른 숫자를 입력하세요.\n",
        "  두 번째 숫자를 입력하세요: 20\n",
        "\n",
        "  ```\n",
        "\n",
        "- 출력:\n",
        "\n",
        "  ```\n",
        "  10 + 20 = 30\n",
        "  ```"
      ],
      "metadata": {
        "id": "pgzpncqCQCAm"
      }
    },
    {
      "cell_type": "code",
      "source": [
        "# 문제\n",
        "def add_numbers():\n",
        "    while True:\n",
        "      a = input('첫 번째 숫자를 입력하세요:')\n",
        "      try:\n",
        "        int(a)\n",
        "        break\n",
        "      except:\n",
        "        print('올바른숫자를 입력하세요.')\n",
        "    while True:\n",
        "      b= input('두 번째 숫자를 입력하세요:')\n",
        "      try:\n",
        "        int(b)\n",
        "        break\n",
        "      except:\n",
        "        print('올바른 숫자를 입력하세요')\n",
        "    return f'{a} + {b} = {int(a)+int(b)}'\n",
        "\n",
        "# 프로그램 실행\n",
        "add_numbers()"
      ],
      "metadata": {
        "id": "dh5R3KRe6PJH",
        "colab": {
          "base_uri": "https://localhost:8080/",
          "height": 70
        },
        "outputId": "b69de788-f27e-4214-8e5d-84165242a280"
      },
      "execution_count": null,
      "outputs": [
        {
          "name": "stdout",
          "output_type": "stream",
          "text": [
            "첫 번째 숫자를 입력하세요:10\n",
            "두 번째 숫자를 입력하세요:20\n"
          ]
        },
        {
          "output_type": "execute_result",
          "data": {
            "text/plain": [
              "'10 + 20 = 30'"
            ],
            "application/vnd.google.colaboratory.intrinsic+json": {
              "type": "string"
            }
          },
          "metadata": {},
          "execution_count": 69
        }
      ]
    },
    {
      "cell_type": "markdown",
      "source": [
        "#### 문제3. 카운트 다운 타이머\n"
      ],
      "metadata": {
        "id": "3eU91vC6_P8x"
      }
    },
    {
      "cell_type": "markdown",
      "source": [
        "- 문제 설명     \n",
        "사용자로부터 시간(초)을 입력받아 해당 시간만큼 카운트 다운을 진행한 후, \"타이머 종료!\"를 출력하고 프로그램이 종료됩니다. 매 초마다 남은 시간을 화면에 출력합니다.\n",
        "\n",
        "- 함수 설명     \n",
        "`count_down(seconds: int)`:  \n",
        "  - seconds: 카운트 다운할 시간(초)입니다.\n",
        "  - 입력받은 초만큼 카운트 다운을 진행하며, 매 초마다 남은 시간을 출력합니다.\n",
        "  - 시간이 종료되면 \"타이머 종료!\"를 출력하고 프로그램을 종료합니다."
      ],
      "metadata": {
        "id": "Uhef_0hlQ_kF"
      }
    },
    {
      "cell_type": "markdown",
      "source": [
        "- 입출력 예시\n",
        "\n",
        "- 입력:\n",
        "  ```\n",
        "  타이머를 시작할 시간(초)을 입력하세요: 5\n",
        "  ```\n",
        "\n",
        "- 출력:\n",
        "  ```\n",
        "  타이머 시작!\n",
        "  5\n",
        "  4\n",
        "  3\n",
        "  2\n",
        "  1\n",
        "  타이머 종료!\n",
        "  ```"
      ],
      "metadata": {
        "id": "wI6pgP-sRC2I"
      }
    },
    {
      "cell_type": "code",
      "source": [
        "from time import time ,sleep\n",
        "start = time()\n",
        "\n",
        "def countdown_timer(a):\n",
        "    while True:\n",
        "      if a ==0:\n",
        "        break\n",
        "      print(a)\n",
        "      sleep(1)\n",
        "      a -=1\n",
        "print('타이머시작')\n",
        "countdown_timer(5)\n",
        "end = time()\n",
        "print(end- start)\n",
        "print('타이머 종료')"
      ],
      "metadata": {
        "colab": {
          "base_uri": "https://localhost:8080/"
        },
        "id": "Z-NKuuQFQjyP",
        "outputId": "e0d38ebe-b262-45c8-e4f2-7dea03f5d015"
      },
      "execution_count": null,
      "outputs": [
        {
          "output_type": "stream",
          "name": "stdout",
          "text": [
            "타이머시작\n",
            "5\n",
            "4\n",
            "3\n",
            "2\n",
            "1\n",
            "5.0084919929504395\n",
            "타이머 종료\n"
          ]
        }
      ]
    },
    {
      "cell_type": "markdown",
      "source": [
        "### 심화 (3문제)"
      ],
      "metadata": {
        "id": "B1wltPNYhyyd"
      }
    },
    {
      "cell_type": "markdown",
      "source": [
        "**주의! 심화 문제는 채점에 포함되지 않습니다. 그러니 편하게 마음먹고 도전해보세요.**\n",
        "\n",
        "**특히, 스도쿠 게임은 다른 미션에서도 사용할 예정이니 모범답안을 확실하게 익혀두세요.**"
      ],
      "metadata": {
        "id": "F2McaAOWlUib"
      }
    },
    {
      "cell_type": "markdown",
      "source": [
        "#### 문제1. 시간 관리 프로그램"
      ],
      "metadata": {
        "id": "BijvTgaZ_x99"
      }
    },
    {
      "cell_type": "markdown",
      "source": [
        "\n",
        "\n",
        "- 문제 설명   \n",
        "이 프로그램은 사용자가 제한된 시간 내에 최대한 많은 할 일을 수행할 수 있도록 돕습니다. 할 일과 각각의 소요 시간이 CSV 파일에 저장되어 있으며, 사용자는 이 데이터와 자신에게 남은 시간을 입력하여 이용할 수 있습니다. 프로그램은 사용자가 입력한 시간 내에서 가능한 최대한 많은 할 일을 선택하고, 선택된 할 일을 소요 시간이 짧은 순으로 정렬하여 출력합니다. 이를 통해 사용자는 가용 시간을 최적화하여 일정을 관리할 수 있습니다.\n",
        "\n",
        "- 기능 설명   \n",
        "  - 데이터 읽기: 사용자로부터 CSV 파일 경로를 입력받아 파일을 읽습니다. 파일은 각 할 일과 그에 소요되는 시간을 포함합니다.\n",
        "  - 할 일 선택: 사용자에게 남은 시간을 입력받습니다. 이 시간을 기준으로 할 수 있는 최대한의 할 일을 선택합니다.\n",
        "  - 결과 출력: 선택된 할 일을 소요 시간이 짧은 순으로 정렬하여 출력합니다. 출력 형식은 목록 형태로 할 일과 예상 소요 시간을 포함합니다."
      ],
      "metadata": {
        "id": "QJAiSMqk0OBE"
      }
    },
    {
      "cell_type": "markdown",
      "source": [
        "\n",
        "- 입출력 예시\n",
        "\n",
        "  - 할 일 및 소요 시간 CSV 파일 예시 (tasks.csv):\n",
        "  ```\n",
        "  할일,소요시간\n",
        "  공부하기,120\n",
        "  운동하기,60\n",
        "  가계부정리,30\n",
        "  영화보기,150\n",
        "  ```\n",
        "\n",
        "  - 입력 :\n",
        "    ```\n",
        "    남은 시간(분): 210\n",
        "    ```\n",
        "\n",
        "  - 출력 :\n",
        "    ```\n",
        "    할 일 목록:\n",
        "    1. 가계부정리 - 예상 소요 시간: 30분\n",
        "    2. 운동하기 - 예상 소요 시간: 60분\n",
        "    3. 공부하기 - 예상 소요 시간: 120분\n",
        "    ```"
      ],
      "metadata": {
        "id": "gLMhPffd9XXJ"
      }
    },
    {
      "cell_type": "code",
      "source": [
        "# @title\n",
        "import csv\n",
        "# (시뮬레이션을 위한) 예시 파일 작성코드\n",
        "\n",
        "def write_tasks_to_csv(filename, tasks):\n",
        "    with open(filename, 'w', newline='') as csvfile:\n",
        "        fieldnames = ['할일', '소요시간']\n",
        "        writer = csv.DictWriter(csvfile, fieldnames=fieldnames)\n",
        "\n",
        "        writer.writeheader()\n",
        "        for task, time in tasks:\n",
        "            writer.writerow({'할일': task, '소요시간': time})\n",
        "\n",
        "# 할 일과 소요 시간 데이터\n",
        "tasks = [\n",
        "    ('공부하기', 120),\n",
        "    ('운동하기', 60),\n",
        "    ('가계부정리', 30),\n",
        "    ('영화보기', 150),\n",
        "    ('데이트하기',90)\n",
        "]\n",
        "\n",
        "# CSV 파일로 저장\n",
        "write_tasks_to_csv('tasks.csv', tasks)\n"
      ],
      "metadata": {
        "id": "nWuS6WjU81s-"
      },
      "execution_count": null,
      "outputs": []
    },
    {
      "cell_type": "code",
      "source": [
        "import csv\n",
        "taskdict = dict()\n",
        "def load_tasks(filename):\n",
        "    with open(filename,'r')as f:\n",
        "      for line in f:\n",
        "        task = line.strip('').split(',')\n",
        "        taskdict[task[0]]=task[1]\n",
        "\n",
        "      del taskdict['할일']\n",
        "      for k in taskdict:\n",
        "        taskdict[k] = int(taskdict[k].replace('\\n',''))\n",
        "      return taskdict\n",
        "\n",
        "def suggest_tasks(tasks, remaining_time):\n",
        "    # value로 정렬하고싶으면 lambda로 item[1]로 value로 정렬기준을 선정하면 됨\n",
        "    a= sorted(tasks.items(),key=lambda item:item[1])\n",
        "    a = dict(a)\n",
        "    ab = dict()\n",
        "    for k,v in a.items():\n",
        "      if remaining_time-v<0:\n",
        "        break\n",
        "      remaining_time-=v\n",
        "      ab[k]=v\n",
        "\n",
        "    return ab\n",
        "\n",
        "\n",
        "# # 프로그램 실행\n",
        "def main():\n",
        "  tasks = load_tasks('tasks.csv')\n",
        "  remaining_time = int(input('남은시간을 입력해주세요.'))\n",
        "  resultdict = suggest_tasks(tasks,remaining_time)\n",
        "  idx = 1\n",
        "  print('할 일 목록:')\n",
        "  for k,v in resultdict.items():\n",
        "\n",
        "    print(f'{idx}. {k} - 예상 소요 시간: {v}분')\n",
        "    idx+=1\n",
        "main()\n",
        "\n",
        "\n",
        "\n"
      ],
      "metadata": {
        "colab": {
          "base_uri": "https://localhost:8080/"
        },
        "id": "O6Ju8YbIyFny",
        "outputId": "df9147e9-61d1-43b9-b134-2a39860db84e"
      },
      "execution_count": null,
      "outputs": [
        {
          "output_type": "stream",
          "name": "stdout",
          "text": [
            "남은시간을 입력해주세요.210\n",
            "할 일 목록:\n",
            "1. 가계부정리 - 예상 소요 시간: 30분\n",
            "2. 운동하기 - 예상 소요 시간: 60분\n",
            "3. 데이트하기 - 예상 소요 시간: 90분\n"
          ]
        }
      ]
    },
    {
      "cell_type": "markdown",
      "source": [
        "###### 생각해보기\n"
      ],
      "metadata": {
        "id": "fyBOyTC28Yjl"
      }
    },
    {
      "cell_type": "markdown",
      "source": [
        "\n",
        "이 문제에서는 남은 시간을 최적으로 활용하는 방법을 고려하고 있습니다. 할 일을 선택하는 과정에서 간혹 같은 총 소요 시간 내에서 여러 조합의 할 일 목록을 선택할 수 있는 상황이 발생할 수 있습니다. 이러한 경우, 어떤 기준을 적용하여 할 일의 조합을 결정할까요?      \n",
        "                  \n",
        "       \n",
        "\n",
        "다음과 같은 기준들을 고려해볼 수 있습니다:   \n",
        "- 가장 많은 할 일을 포함하는 조합: 가능한 많은 다양한 활동을 하고자 할 때 선택할 수 있는 방법입니다.\n",
        "- 가장 적은 시간이 남는 조합: 가용 시간을 거의 다 쓰는 조합을 선택하여 시간을 최대한 활용하고자 할 때 선택할 수 있는 방법입니다.\n",
        "- 특정 할 일을 우선하는 조합: 개인의 선호도나 긴급도에 따라 특정 할 일을 우선적으로 포함시키는 조합을 선택할 수 있습니다.\n",
        "- 가장 많은 시간을 소모하는 할 일을 포함하는 조합: 가장 긴 시간이 필요한 할 일을 포함시켜, 일상에서 잘 못하던 일을 이번 기회에 해결하고자 할 때 선택할 수 있는 방법입니다.\n",
        "\n",
        "이러한 선택지 중에서 어떤 기준이 당신의 상황에 가장 적합한지 고민해보고, 이를 코드로 반영해보세요.  "
      ],
      "metadata": {
        "id": "TNIdqNtH9wSp"
      }
    },
    {
      "cell_type": "code",
      "source": [],
      "metadata": {
        "id": "dQ0VyEUxYh9b"
      },
      "execution_count": null,
      "outputs": []
    },
    {
      "cell_type": "markdown",
      "source": [
        "#### 문제2. 수학퍼즐 : 소수의 합"
      ],
      "metadata": {
        "id": "J2s-MSCNAuQQ"
      }
    },
    {
      "cell_type": "markdown",
      "source": [
        "\n",
        "- 문제 설명:   \n",
        "이 프로그램은 사용자로부터 어떤 수 이하의 소수의 합을 구할 것인지 입력 받아, 해당 수까지의 모든 소수의 합을 계산하여 출력합니다. 소수(prime number)는 1과 자기 자신만을 약수로 가지는 자연수를 말합니다. 소수를 찾는 방법은 자유롭게 선택할 수 있지만, 효율적인 방법을 고려하여 구현해야 합니다."
      ],
      "metadata": {
        "id": "5zdgO9WLAoIn"
      }
    },
    {
      "cell_type": "markdown",
      "source": [
        "- 기능 설명  \n",
        "  - 소수 판별: 주어진 수까지의 모든 자연수에 대해 소수 여부를 판별합니다. (힌트 : 에라토스테네스의 체)\n",
        "  - 소수 합 계산: 판별된 소수들의 합을 계산합니다.\n",
        "  - 결과 출력: 계산된 소수의 합을 출력합니다. 출력 형식은 사용자가 입력한 수까지의 소수 합과 그 값을 포함합니다."
      ],
      "metadata": {
        "id": "KHM2XwaR99na"
      }
    },
    {
      "cell_type": "markdown",
      "source": [
        "- 입출력 예시\n",
        "\n",
        "  - 입력:\n",
        "\n",
        "  ```\n",
        "  어떤 수까지의 소수의 합을 구하시겠습니까?: 10\n",
        "  ```\n",
        "  - 출력:\n",
        "\n",
        "  ```\n",
        "  10까지의 소수의 합은 17입니다.\n",
        "  ```"
      ],
      "metadata": {
        "id": "8yTvA8foAzSE"
      }
    },
    {
      "cell_type": "code",
      "source": [
        "def main():\n",
        "    n = int(input('어떤 수 이하의 소수의 합을 구하시겠습니까?: '))\n",
        "    result=0\n",
        "    cnt=0\n",
        "    for i in range(2,n+1):\n",
        "      for j in range(2,i-1):\n",
        "        if i%j==0:\n",
        "          cnt+=1\n",
        "      if cnt==0:\n",
        "        result+=i\n",
        "      cnt=0\n",
        "    print(f'{n}까지의 소수의 합은 {result}입니다.')\n",
        "# 프로그램 실행\n",
        "main()\n"
      ],
      "metadata": {
        "colab": {
          "base_uri": "https://localhost:8080/"
        },
        "id": "RDGwPR8Q_v5B",
        "outputId": "5fac1b64-2890-4528-e3d3-0e843a23a425"
      },
      "execution_count": null,
      "outputs": [
        {
          "output_type": "stream",
          "name": "stdout",
          "text": [
            "어떤 수 이하의 소수의 합을 구하시겠습니까?: 10\n",
            "10까지의 소수의 합은 17입니다.\n"
          ]
        }
      ]
    },
    {
      "cell_type": "markdown",
      "source": [
        "#### 문제3. 스도쿠 게임"
      ],
      "metadata": {
        "id": "xHJt0yW-FI5E"
      }
    },
    {
      "cell_type": "markdown",
      "source": [
        "##### **게임 설명**\n",
        "\n",
        "스도쿠는 가로, 세로, 그리고 3x3의 작은 정사각형 안에서 1부터 9까지의 숫자를 중복되지 않게 채워 넣는 논리 퍼즐입니다. 채워 넣을 숫자는 주어진 힌트와 숫자의 법칙에 따라 채워져야 합니다.\n",
        "\n",
        "##### **규칙**\n",
        "\n",
        "- 각 행에는 1부터 9까지의 숫자가 중복되지 않게 채워져야 합니다.\n",
        "- 각 열에는 1부터 9까지의 숫자가 중복되지 않게 채워져야 합니다.\n",
        "- 3x3의 작은 정사각형 안에는 1부터 9까지의 숫자가 중복되지 않게 채워져야 합니다.\n"
      ],
      "metadata": {
        "id": "sc2XxFRXLvNy"
      }
    },
    {
      "cell_type": "markdown",
      "source": [
        "##### **과제 설명**\n",
        "\n",
        "여러분의 임무는 주어진 스도쿠 퍼즐을 풀거나, 스도쿠 퍼즐을 생성하는 함수들을 작성하는 것입니다.\n",
        "\n",
        "##### **구현할 함수들**\n",
        "\n",
        "1. `initialize_board`: 빈 스도쿠 보드를 생성합니다.\n",
        "2. `print_board`: 현재 스도쿠 보드를 출력합니다.\n",
        "3. `solve_sudoku`: 주어진 스도쿠 퍼즐을 해결합니다.\n",
        "4. `generate_sudoku`: 빈 칸이 채워지지 않은 완성된 스도쿠 퍼즐을 생성합니다.\n",
        "5. `play_sudoku`: 사용자에게 스도쿠 게임을 플레이할 기회를 제공합니다. 게임은 사용자가 잘못된 이동을 하거나 스도쿠를 완성할 때까지 진행됩니다."
      ],
      "metadata": {
        "id": "HHnkaklHLpqM"
      }
    },
    {
      "cell_type": "markdown",
      "source": [
        "##### `initialize_board` 함수"
      ],
      "metadata": {
        "id": "CoYApy1wV99X"
      }
    },
    {
      "cell_type": "markdown",
      "source": [
        "- **문제 설명:**\n",
        "\n",
        "  이 함수는 빈 스도쿠 보드를 생성합니다. 스도쿠 보드는 9x9 크기의 2차원 리스트로 표현됩니다. 빈 칸은 0으로 표시됩니다.\n",
        "\n",
        "-  **입력:**\n",
        "\n",
        "  - 없음\n",
        "\n",
        "-  **출력:**\n",
        "\n",
        "  - 빈 스도쿠 보드를 나타내는 9x9 크기의 2차원 리스트\n",
        "\n",
        "-  **예시:**\n",
        "\n",
        "  ```python\n",
        "  board = initialize_board()\n",
        "  print_board(board)\n",
        "\n",
        "  ```\n",
        "\n",
        "-  **출력 예시:**\n",
        "\n",
        "  ```\n",
        "  0 0 0 0 0 0 0 0 0\n",
        "  0 0 0 0 0 0 0 0 0\n",
        "  0 0 0 0 0 0 0 0 0\n",
        "  0 0 0 0 0 0 0 0 0\n",
        "  0 0 0 0 0 0 0 0 0\n",
        "  0 0 0 0 0 0 0 0 0\n",
        "  0 0 0 0 0 0 0 0 0\n",
        "  0 0 0 0 0 0 0 0 0\n",
        "  0 0 0 0 0 0 0 0 0\n",
        "\n",
        "  ```"
      ],
      "metadata": {
        "id": "rIucFY4aV4iY"
      }
    },
    {
      "cell_type": "code",
      "source": [
        "def initialize_board():\n",
        "  return [[0]*9 for _ in range(9)]\n",
        "\n",
        "b = initialize_board()\n",
        "print_board(b)\n",
        "\n"
      ],
      "metadata": {
        "id": "_map3qRvV4db",
        "colab": {
          "base_uri": "https://localhost:8080/"
        },
        "outputId": "793df881-6295-4b44-c385-6b003dd63f8f"
      },
      "execution_count": null,
      "outputs": [
        {
          "output_type": "stream",
          "name": "stdout",
          "text": [
            "[0, 0, 0, 0, 0, 0, 0, 0, 0]\n",
            "[0, 0, 0, 0, 0, 0, 0, 0, 0]\n",
            "[0, 0, 0, 0, 0, 0, 0, 0, 0]\n",
            "[0, 0, 0, 0, 0, 0, 0, 0, 0]\n",
            "[0, 0, 0, 0, 0, 0, 0, 0, 0]\n",
            "[0, 0, 0, 0, 0, 0, 0, 0, 0]\n",
            "[0, 0, 0, 0, 0, 0, 0, 0, 0]\n",
            "[0, 0, 0, 0, 0, 0, 0, 0, 0]\n",
            "[0, 0, 0, 0, 0, 0, 0, 0, 0]\n"
          ]
        }
      ]
    },
    {
      "cell_type": "markdown",
      "source": [
        "##### `print_board` 함수"
      ],
      "metadata": {
        "id": "OXDFvB-HWQbW"
      }
    },
    {
      "cell_type": "markdown",
      "source": [
        "- **문제 설명:**\n",
        "\n",
        "  이 함수는 현재 스도쿠 보드를 출력합니다.\n",
        "\n",
        "- **입력:**\n",
        "\n",
        "  - 스도쿠 보드: 9x9 크기의 2차원 리스트\n",
        "\n",
        "- **출력:**\n",
        "\n",
        "  - 현재 스도쿠 보드를 출력\n",
        "\n",
        "- **예시:**\n",
        "\n",
        "  ```python\n",
        "  board = initialize_board()\n",
        "  print_board(board)\n",
        "\n",
        "  ```\n",
        "\n",
        "- **출력 예시:**\n",
        "\n",
        "  ```\n",
        "  0 0 0 0 0 0 0 0 0\n",
        "  0 0 0 0 0 0 0 0 0\n",
        "  0 0 0 0 0 0 0 0 0\n",
        "  0 0 0 0 0 0 0 0 0\n",
        "  0 0 0 0 0 0 0 0 0\n",
        "  0 0 0 0 0 0 0 0 0\n",
        "  0 0 0 0 0 0 0 0 0\n",
        "  0 0 0 0 0 0 0 0 0\n",
        "  0 0 0 0 0 0 0 0 0\n",
        "\n",
        "  ```"
      ],
      "metadata": {
        "id": "NNTy6BRDV4Yg"
      }
    },
    {
      "cell_type": "code",
      "source": [
        "def print_board(board):\n",
        "    for i in board:\n",
        "      print(i)"
      ],
      "metadata": {
        "id": "dzyML_mxV4Uk"
      },
      "execution_count": null,
      "outputs": []
    },
    {
      "cell_type": "markdown",
      "source": [
        "##### `solve_sudoku` 함수"
      ],
      "metadata": {
        "id": "xwJFosMCWg0n"
      }
    },
    {
      "cell_type": "markdown",
      "source": [
        "- **문제 설명:**\n",
        "\n",
        "  이 함수는 주어진 스도쿠 퍼즐을 해결합니다. 주어진 스도쿠 퍼즐이 해결 가능한 경우에만 해결하고, 그렇지 않은 경우에는 메시지를 출력합니다.\n",
        "\n",
        "- **입력:**\n",
        "\n",
        "  - 스도쿠 보드: 9x9 크기의 2차원 리스트\n",
        "\n",
        "- **출력:**\n",
        "\n",
        "  - 스도쿠 퍼즐이 해결된 경우, 해결된 스도쿠 보드\n",
        "  - 스도쿠 퍼즐이 해결되지 않은 경우, \"해결할 수 없는 스도쿠 퍼즐입니다.\" 메시지 출력\n",
        "\n",
        "- **예시:**\n",
        "\n",
        "  ```python\n",
        "  board = [\n",
        "      [5, 3, 0, 0, 7, 0, 0, 0, 0],\n",
        "      [6, 0, 0, 1, 9, 5, 0, 0, 0],\n",
        "      [0, 9, 8, 0, 0, 0, 0, 6, 0],\n",
        "      [8, 0, 0, 0, 6, 0, 0, 0, 3],\n",
        "      [4, 0, 0, 8, 0, 3, 0, 0, 1],\n",
        "      [7, 0, 0, 0, 2, 0, 0, 0, 6],\n",
        "      [0, 6, 0, 0, 0, 0, 2, 8, 0],\n",
        "      [0, 0, 0, 4, 1, 9, 0, 0, 5],\n",
        "      [0, 0, 0, 0, 8, 0, 0, 7, 9]\n",
        "  ]\n",
        "\n",
        "  print_board(board)\n",
        "  print(\"\\\\n해결된 스도쿠 퍼즐:\")\n",
        "  solved_board = solve_sudoku(board)\n",
        "  if solved_board:\n",
        "      print_board(solved_board)\n",
        "  else:\n",
        "      print(\"해결할 수 없는 스도쿠 퍼즐입니다.\")\n",
        "\n",
        "  ```\n",
        "\n",
        "- **출력 예시:**\n",
        "\n",
        "  ```\n",
        "  5 3 0 0 7 0 0 0 0\n",
        "  6 0 0 1 9 5 0 0 0\n",
        "  0 9 8 0 0 0 0 6 0\n",
        "  8 0 0 0 6 0 0 0 3\n",
        "  4 0 0 8 0 3 0 0 1\n",
        "  7 0 0 0 2 0 0 0 6\n",
        "  0 6 0 0 0 0 2 8 0\n",
        "  0 0 0 4 1 9 0 0 5\n",
        "  0 0 0 0 8 0 0 7 9\n",
        "\n",
        "  해결된 스도쿠 퍼즐:\n",
        "  5 3 4 6 7 8 9 1 2\n",
        "  6 7 2 1 9 5 3 4 8\n",
        "  1 9 8 3 4 2 5 6 7\n",
        "  8 5 9 7 6 1 4 2 3\n",
        "  4 2 6 8 5 3 7 9 1\n",
        "  7 1 3 9 2 4 8 5 6\n",
        "  9 6 1 5 3 7 2 8 4\n",
        "  2 8 7 4 1 9 6 3 5\n",
        "  3 4 5 2 8 6 1 7 9\n",
        "\n",
        "  ```"
      ],
      "metadata": {
        "id": "FOPBHiapV4Pm"
      }
    },
    {
      "cell_type": "code",
      "source": [
        "def solve_sudoku(board):\n",
        "  #"
      ],
      "metadata": {
        "id": "_U7LWsiYoqPX"
      },
      "execution_count": null,
      "outputs": []
    },
    {
      "cell_type": "markdown",
      "source": [
        "##### `generate_sudoku`함수"
      ],
      "metadata": {
        "id": "L7Vrt79NWskI"
      }
    },
    {
      "cell_type": "markdown",
      "source": [
        "\n",
        "\n",
        "- **문제 설명:**\n",
        "\n",
        "  이 함수는 빈 칸이 채워지지 않은 완성된 스도쿠 퍼즐을 생성합니다.\n",
        "\n",
        "- **입력:**\n",
        "\n",
        "  - 없음\n",
        "\n",
        "- **출력:**\n",
        "\n",
        "  - 완성된 스도쿠 퍼즐을 나타내는 9x9 크기의 2차원 리스트\n",
        "\n",
        "- **예시:**\n",
        "\n",
        "  ```python\n",
        "  sudoku_puzzle = generate_sudoku()\n",
        "  print_board(sudoku_puzzle)\n",
        "\n",
        "  ```\n",
        "\n",
        "- **출력 예시:**\n",
        "\n",
        "  ```\n",
        "  5 3 0 0 7 0 0 0 0\n",
        "  6 0\n",
        "\n",
        "  0 1 9 5 0 0 0\n",
        "  0 9 8 0 0 0 0 6 0\n",
        "  8 0 0 0 6 0 0 0 3\n",
        "  4 0 0 8 0 3 0 0 1\n",
        "  7 0 0 0 2 0 0 0 6\n",
        "  0 6 0 0 0 0 2 8 0\n",
        "  0 0 0 4 1 9 0 0 5\n",
        "  0 0 0 0 8 0 0 7 9\n",
        "\n",
        "  ```"
      ],
      "metadata": {
        "id": "P00l7GoZWsgR"
      }
    },
    {
      "cell_type": "code",
      "source": [
        "import random as r\n",
        "\n",
        "def generate_sudoku():\n",
        "\n",
        "\n",
        "      rand_num1 = r.randint(0,9)\n",
        "        rand_num2 = r.randint(0,9)\n",
        "        board[rand_num1][rand_num2]=rand_num\n",
        "    return board\n",
        "\n"
      ],
      "metadata": {
        "id": "kGS0LPPgWsZc"
      },
      "execution_count": null,
      "outputs": []
    },
    {
      "cell_type": "markdown",
      "source": [
        "##### `play_sudoku`함수"
      ],
      "metadata": {
        "id": "05FuqyDmW98U"
      }
    },
    {
      "cell_type": "markdown",
      "source": [
        "- **문제 설명:**\n",
        "\n",
        "  이 함수는 사용자에게 스도쿠 게임을 플레이할 기회를 제공합니다. 게임은 사용자가 잘못된 이동을 하거나 스도쿠를 완성할 때까지 진행됩니다.\n",
        "\n",
        "- **입력:**\n",
        "\n",
        "  - 없음. 사용자는 콘솔을 통해 행, 열, 숫자를 입력합니다.\n",
        "\n",
        "- **출력:**\n",
        "\n",
        "  - 없음. 스도쿠 보드의 상태가 계속 업데이트되며, 최종적으로 스도쿠가 완료되었거나 잘못된 이동이 있을 때 게임이 종료됩니다.\n",
        "\n",
        "- **예시:**\n",
        "\n",
        "  ```python\n",
        "  play_sudoku()\n",
        "\n",
        "  ```\n",
        "\n",
        "- **출력 예시:**\n",
        "\n",
        "  ```diff\n",
        "  스도쿠 게임을 시작합니다!\n",
        "  - - 3 - - - - - -\n",
        "  - - - - - 5 - - 9\n",
        "  - - 1 - - - - 5 -\n",
        "  - - - - - - 9 - -\n",
        "  5 - - - - 8 - - -\n",
        "  - 7 - - - - - - 8\n",
        "  - - 6 - 1 - 7 - -\n",
        "  - - - 4 6 - - - -\n",
        "  - - - - - - - - -\n",
        "  행을 입력하세요 (1-9): 1\n",
        "  열을 입력하세요 (1-9): 1\n",
        "  숫자를 입력하세요 (1-9): 2\n",
        "  - 2 3 - - - - - -\n",
        "  - - - - - 5 - - 9\n",
        "  - - 1 - - - - 5 -\n",
        "  - - - - - - 9 - -\n",
        "  5 - - - - 8 - - -\n",
        "  - 7 - - - - - - 8\n",
        "  - - 6 - 1 - 7 - -\n",
        "  - - - 4 6 - - - -\n",
        "  - - - - - - - - -\n",
        "  행을 입력하세요 (1-9): 1\n",
        "  열을 입력하세요 (1-9): 2\n",
        "  숫자를 입력하세요 (1-9): 5\n",
        "  잘못된 이동입니다. 게임을 종료합니다.\n",
        "\n",
        "  ```"
      ],
      "metadata": {
        "id": "hpYVL4TjW94e"
      }
    },
    {
      "cell_type": "code",
      "source": [
        "def play_sudoku():\n",
        "    pass\n"
      ],
      "metadata": {
        "id": "DiK86_IQW90S"
      },
      "execution_count": null,
      "outputs": []
    },
    {
      "cell_type": "code",
      "source": [
        "def play_sudoku():\n",
        "    board = generate_sudoku()\n",
        "    solved_board = [row[:] for row in board]  # 정답 보드 복사\n",
        "    solve_sudoku(solved_board)  # 정답을 구함\n",
        "\n",
        "    print(\"스도쿠 게임을 시작합니다!\")\n",
        "    while True:\n",
        "        print_board(board)\n",
        "        try:\n",
        "            row = int(input(\"행을 입력하세요 (1-9): \")) - 1\n",
        "            col = int(input(\"열을 입력하세요 (1-9): \")) - 1\n",
        "            num = int(input(\"숫자를 입력하세요 (1-9): \"))\n",
        "\n",
        "            if not (0 <= row < 9 and 0 <= col < 9 and 1 <= num <= 9):\n",
        "                print(\"잘못된 입력입니다. 게임을 종료합니다.\")\n",
        "                break\n",
        "\n",
        "            if board[row][col] != 0:\n",
        "                print(\"이미 숫자가 있는 칸입니다. 게임을 종료합니다.\")\n",
        "                break\n",
        "\n",
        "            if not is_valid_move(board, row, col, num):\n",
        "                print(\"잘못된 이동입니다. 게임을 종료합니다.\")\n",
        "                break\n",
        "\n",
        "            board[row][col] = num\n",
        "\n",
        "            if solved_board[row][col] != num:\n",
        "                print(\"정답이 아닙니다. 게임을 종료합니다.\")\n",
        "                break\n",
        "\n",
        "            if all(all(cell != 0 for cell in row) for row in board):\n",
        "                print(\"축하합니다! 스도쿠를 완료했습니다!\")\n",
        "                print_board(board)\n",
        "                break\n",
        "\n",
        "        except ValueError:\n",
        "            print(\"유효하지 않은 입력입니다. 숫자를 입력해야 합니다. 게임을 종료합니다.\")\n",
        "            break\n"
      ],
      "metadata": {
        "id": "J7pY_hsbjO4t"
      },
      "execution_count": null,
      "outputs": []
    },
    {
      "cell_type": "code",
      "source": [
        "play_sudoku()"
      ],
      "metadata": {
        "id": "gJMdK-2xleAf"
      },
      "execution_count": null,
      "outputs": []
    },
    {
      "cell_type": "code",
      "source": [],
      "metadata": {
        "id": "IWgLpaasrZFz"
      },
      "execution_count": null,
      "outputs": []
    }
  ]
}